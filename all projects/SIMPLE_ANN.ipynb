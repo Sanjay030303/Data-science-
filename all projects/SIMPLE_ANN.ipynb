{
  "nbformat": 4,
  "nbformat_minor": 0,
  "metadata": {
    "colab": {
      "provenance": []
    },
    "kernelspec": {
      "name": "python3",
      "display_name": "Python 3"
    },
    "language_info": {
      "name": "python"
    }
  },
  "cells": [
    {
      "cell_type": "code",
      "execution_count": 56,
      "metadata": {
        "id": "9JnNVn2mP0OD"
      },
      "outputs": [],
      "source": [
        "import pandas as pandas\n",
        "import numpy as np\n",
        "import matplotlib.pyplot as plt\n",
        "import seaborn as sns\n",
        "import tensorflow as tf\n",
        "from tensorflow import keras"
      ]
    },
    {
      "cell_type": "markdown",
      "source": [
        "importing the dataset : "
      ],
      "metadata": {
        "id": "nV8su8SEq-1o"
      }
    },
    {
      "cell_type": "code",
      "source": [
        "data = keras.datasets.mnist"
      ],
      "metadata": {
        "id": "mmVVVY4MoNPF"
      },
      "execution_count": 57,
      "outputs": []
    },
    {
      "cell_type": "code",
      "source": [
        "df = data.load_data()"
      ],
      "metadata": {
        "id": "Z3-j-mjprKzj"
      },
      "execution_count": 58,
      "outputs": []
    },
    {
      "cell_type": "code",
      "source": [
        "df"
      ],
      "metadata": {
        "colab": {
          "base_uri": "https://localhost:8080/"
        },
        "id": "4Wkup1P1rSI_",
        "outputId": "60f2693f-3031-43e2-d197-8a63f093f75c"
      },
      "execution_count": 59,
      "outputs": [
        {
          "output_type": "execute_result",
          "data": {
            "text/plain": [
              "((array([[[0, 0, 0, ..., 0, 0, 0],\n",
              "          [0, 0, 0, ..., 0, 0, 0],\n",
              "          [0, 0, 0, ..., 0, 0, 0],\n",
              "          ...,\n",
              "          [0, 0, 0, ..., 0, 0, 0],\n",
              "          [0, 0, 0, ..., 0, 0, 0],\n",
              "          [0, 0, 0, ..., 0, 0, 0]],\n",
              "  \n",
              "         [[0, 0, 0, ..., 0, 0, 0],\n",
              "          [0, 0, 0, ..., 0, 0, 0],\n",
              "          [0, 0, 0, ..., 0, 0, 0],\n",
              "          ...,\n",
              "          [0, 0, 0, ..., 0, 0, 0],\n",
              "          [0, 0, 0, ..., 0, 0, 0],\n",
              "          [0, 0, 0, ..., 0, 0, 0]],\n",
              "  \n",
              "         [[0, 0, 0, ..., 0, 0, 0],\n",
              "          [0, 0, 0, ..., 0, 0, 0],\n",
              "          [0, 0, 0, ..., 0, 0, 0],\n",
              "          ...,\n",
              "          [0, 0, 0, ..., 0, 0, 0],\n",
              "          [0, 0, 0, ..., 0, 0, 0],\n",
              "          [0, 0, 0, ..., 0, 0, 0]],\n",
              "  \n",
              "         ...,\n",
              "  \n",
              "         [[0, 0, 0, ..., 0, 0, 0],\n",
              "          [0, 0, 0, ..., 0, 0, 0],\n",
              "          [0, 0, 0, ..., 0, 0, 0],\n",
              "          ...,\n",
              "          [0, 0, 0, ..., 0, 0, 0],\n",
              "          [0, 0, 0, ..., 0, 0, 0],\n",
              "          [0, 0, 0, ..., 0, 0, 0]],\n",
              "  \n",
              "         [[0, 0, 0, ..., 0, 0, 0],\n",
              "          [0, 0, 0, ..., 0, 0, 0],\n",
              "          [0, 0, 0, ..., 0, 0, 0],\n",
              "          ...,\n",
              "          [0, 0, 0, ..., 0, 0, 0],\n",
              "          [0, 0, 0, ..., 0, 0, 0],\n",
              "          [0, 0, 0, ..., 0, 0, 0]],\n",
              "  \n",
              "         [[0, 0, 0, ..., 0, 0, 0],\n",
              "          [0, 0, 0, ..., 0, 0, 0],\n",
              "          [0, 0, 0, ..., 0, 0, 0],\n",
              "          ...,\n",
              "          [0, 0, 0, ..., 0, 0, 0],\n",
              "          [0, 0, 0, ..., 0, 0, 0],\n",
              "          [0, 0, 0, ..., 0, 0, 0]]], dtype=uint8),\n",
              "  array([5, 0, 4, ..., 5, 6, 8], dtype=uint8)),\n",
              " (array([[[0, 0, 0, ..., 0, 0, 0],\n",
              "          [0, 0, 0, ..., 0, 0, 0],\n",
              "          [0, 0, 0, ..., 0, 0, 0],\n",
              "          ...,\n",
              "          [0, 0, 0, ..., 0, 0, 0],\n",
              "          [0, 0, 0, ..., 0, 0, 0],\n",
              "          [0, 0, 0, ..., 0, 0, 0]],\n",
              "  \n",
              "         [[0, 0, 0, ..., 0, 0, 0],\n",
              "          [0, 0, 0, ..., 0, 0, 0],\n",
              "          [0, 0, 0, ..., 0, 0, 0],\n",
              "          ...,\n",
              "          [0, 0, 0, ..., 0, 0, 0],\n",
              "          [0, 0, 0, ..., 0, 0, 0],\n",
              "          [0, 0, 0, ..., 0, 0, 0]],\n",
              "  \n",
              "         [[0, 0, 0, ..., 0, 0, 0],\n",
              "          [0, 0, 0, ..., 0, 0, 0],\n",
              "          [0, 0, 0, ..., 0, 0, 0],\n",
              "          ...,\n",
              "          [0, 0, 0, ..., 0, 0, 0],\n",
              "          [0, 0, 0, ..., 0, 0, 0],\n",
              "          [0, 0, 0, ..., 0, 0, 0]],\n",
              "  \n",
              "         ...,\n",
              "  \n",
              "         [[0, 0, 0, ..., 0, 0, 0],\n",
              "          [0, 0, 0, ..., 0, 0, 0],\n",
              "          [0, 0, 0, ..., 0, 0, 0],\n",
              "          ...,\n",
              "          [0, 0, 0, ..., 0, 0, 0],\n",
              "          [0, 0, 0, ..., 0, 0, 0],\n",
              "          [0, 0, 0, ..., 0, 0, 0]],\n",
              "  \n",
              "         [[0, 0, 0, ..., 0, 0, 0],\n",
              "          [0, 0, 0, ..., 0, 0, 0],\n",
              "          [0, 0, 0, ..., 0, 0, 0],\n",
              "          ...,\n",
              "          [0, 0, 0, ..., 0, 0, 0],\n",
              "          [0, 0, 0, ..., 0, 0, 0],\n",
              "          [0, 0, 0, ..., 0, 0, 0]],\n",
              "  \n",
              "         [[0, 0, 0, ..., 0, 0, 0],\n",
              "          [0, 0, 0, ..., 0, 0, 0],\n",
              "          [0, 0, 0, ..., 0, 0, 0],\n",
              "          ...,\n",
              "          [0, 0, 0, ..., 0, 0, 0],\n",
              "          [0, 0, 0, ..., 0, 0, 0],\n",
              "          [0, 0, 0, ..., 0, 0, 0]]], dtype=uint8),\n",
              "  array([7, 2, 1, ..., 4, 5, 6], dtype=uint8)))"
            ]
          },
          "metadata": {},
          "execution_count": 59
        }
      ]
    },
    {
      "cell_type": "code",
      "source": [
        "len(df)"
      ],
      "metadata": {
        "colab": {
          "base_uri": "https://localhost:8080/"
        },
        "id": "NnYK1ok3rWk9",
        "outputId": "ba9199fd-2599-444a-9e12-f1cebfb1084c"
      },
      "execution_count": 60,
      "outputs": [
        {
          "output_type": "execute_result",
          "data": {
            "text/plain": [
              "2"
            ]
          },
          "metadata": {},
          "execution_count": 60
        }
      ]
    },
    {
      "cell_type": "code",
      "source": [
        "(X_train,y_train),(X_test,y_test) = df"
      ],
      "metadata": {
        "id": "o_-sbeyOrZk0"
      },
      "execution_count": 61,
      "outputs": []
    },
    {
      "cell_type": "code",
      "source": [
        "X_train.shape"
      ],
      "metadata": {
        "colab": {
          "base_uri": "https://localhost:8080/"
        },
        "id": "3r8csjURrk2-",
        "outputId": "924daf98-eb38-440f-ec12-7015f8e54758"
      },
      "execution_count": 62,
      "outputs": [
        {
          "output_type": "execute_result",
          "data": {
            "text/plain": [
              "(60000, 28, 28)"
            ]
          },
          "metadata": {},
          "execution_count": 62
        }
      ]
    },
    {
      "cell_type": "code",
      "source": [
        "X_train[0][5]"
      ],
      "metadata": {
        "colab": {
          "base_uri": "https://localhost:8080/"
        },
        "id": "0ajqjU54rob5",
        "outputId": "3dd58bfd-5515-476c-8702-13171e4c1857"
      },
      "execution_count": 63,
      "outputs": [
        {
          "output_type": "execute_result",
          "data": {
            "text/plain": [
              "array([  0,   0,   0,   0,   0,   0,   0,   0,   0,   0,   0,   0,   3,\n",
              "        18,  18,  18, 126, 136, 175,  26, 166, 255, 247, 127,   0,   0,\n",
              "         0,   0], dtype=uint8)"
            ]
          },
          "metadata": {},
          "execution_count": 63
        }
      ]
    },
    {
      "cell_type": "markdown",
      "source": [
        "We can't understand if just showing the numerical representation of the picture.Instead of that here i am showing  pictorial representation"
      ],
      "metadata": {
        "id": "EmgsEBC3sKpV"
      }
    },
    {
      "cell_type": "code",
      "source": [
        "plt.matshow(X_train[0])"
      ],
      "metadata": {
        "colab": {
          "base_uri": "https://localhost:8080/",
          "height": 292
        },
        "id": "9yrn_Vtjr7Ru",
        "outputId": "e72a705e-8824-46ac-c951-744c47820931"
      },
      "execution_count": 64,
      "outputs": [
        {
          "output_type": "execute_result",
          "data": {
            "text/plain": [
              "<matplotlib.image.AxesImage at 0x7f7487769a90>"
            ]
          },
          "metadata": {},
          "execution_count": 64
        },
        {
          "output_type": "display_data",
          "data": {
            "text/plain": [
              "<Figure size 288x288 with 1 Axes>"
            ],
            "image/png": "[encoded data removed]"
          },
          "metadata": {
            "needs_background": "light"
          }
        }
      ]
    },
    {
      "cell_type": "code",
      "source": [
        "n = input(\"Enter How many pictuire you want : \")\n",
        "for i in range(int(n)):\n",
        "  plt.matshow(X_train[i])"
      ],
      "metadata": {
        "colab": {
          "base_uri": "https://localhost:8080/",
          "height": 808
        },
        "id": "eWUnbRW6sJaX",
        "outputId": "2b5209e2-b6d2-4ec2-ed2e-65fa3b5ec084"
      },
      "execution_count": 65,
      "outputs": [
        {
          "name": "stdout",
          "output_type": "stream",
          "text": [
            "Enter How many pictuire you want : 3\n"
          ]
        },
        {
          "output_type": "display_data",
          "data": {
            "text/plain": [
              "<Figure size 288x288 with 1 Axes>"
            ],
            "image/png": "[encoded data removed]"
          },
          "metadata": {
            "needs_background": "light"
          }
        },
        {
          "output_type": "display_data",
          "data": {
            "text/plain": [
              "<Figure size 288x288 with 1 Axes>"
            ],
            "image/png": "[encoded data removed]"
          },
          "metadata": {
            "needs_background": "light"
          }
        },
        {
          "output_type": "display_data",
          "data": {
            "text/plain": [
              "<Figure size 288x288 with 1 Axes>"
            ],
            "image/png": "[encoded data removed]"
          },
          "metadata": {
            "needs_background": "light"
          }
        }
      ]
    },
    {
      "cell_type": "code",
      "source": [
        "#Flattening the X_train & X_test\n",
        "X_train_flat = X_train.reshape(-1,28*28)\n",
        "X_test_flat = X_test.reshape(-1,28*28)"
      ],
      "metadata": {
        "id": "OtXuSS6btfCm"
      },
      "execution_count": 66,
      "outputs": []
    },
    {
      "cell_type": "code",
      "source": [
        "X_train_flat[0].ndim"
      ],
      "metadata": {
        "colab": {
          "base_uri": "https://localhost:8080/"
        },
        "id": "fxX2cbnLvaGP",
        "outputId": "dfa187cd-7822-4b52-848f-c05891bd306d"
      },
      "execution_count": 67,
      "outputs": [
        {
          "output_type": "execute_result",
          "data": {
            "text/plain": [
              "1"
            ]
          },
          "metadata": {},
          "execution_count": 67
        }
      ]
    },
    {
      "cell_type": "markdown",
      "source": [
        "MODEL CREATION \n"
      ],
      "metadata": {
        "id": "iFk3LAjCvwk7"
      }
    },
    {
      "cell_type": "code",
      "source": [
        "from tensorflow.keras import Sequential\n",
        "from tensorflow.keras.layers import Dense"
      ],
      "metadata": {
        "id": "9VLkFcD4vfWJ"
      },
      "execution_count": 68,
      "outputs": []
    },
    {
      "cell_type": "code",
      "source": [
        "model = Sequential([\n",
        "    Dense(32,input_shape=(784,),activation=\"sigmoid\")\n",
        "])\n",
        "\n",
        "model.compile(\n",
        "    optimizer=\"adam\",\n",
        "    loss=\"sparse_categorical_crossentropy\",\n",
        "    metrics=[\"accuracy\"]\n",
        "\n",
        ")"
      ],
      "metadata": {
        "id": "xsm4F3ybv8sf"
      },
      "execution_count": 69,
      "outputs": []
    },
    {
      "cell_type": "markdown",
      "source": [
        "Training phase"
      ],
      "metadata": {
        "id": "-3bayAdmxu6j"
      }
    },
    {
      "cell_type": "code",
      "source": [
        "model.fit(X_train_flat,y_train, epochs=20,batch_size = 100) "
      ],
      "metadata": {
        "colab": {
          "base_uri": "https://localhost:8080/"
        },
        "id": "7msZ_-okwDjO",
        "outputId": "7dd911ca-7859-4f3b-f8a9-17aa3db17f51"
      },
      "execution_count": 70,
      "outputs": [
        {
          "output_type": "stream",
          "name": "stdout",
          "text": [
            "Epoch 1/20\n",
            "600/600 [==============================] - 2s 3ms/step - loss: 12.7754 - accuracy: 0.8133\n",
            "Epoch 2/20\n",
            "600/600 [==============================] - 2s 3ms/step - loss: 4.8764 - accuracy: 0.8796\n",
            "Epoch 3/20\n",
            "600/600 [==============================] - 2s 3ms/step - loss: 4.0994 - accuracy: 0.8842\n",
            "Epoch 4/20\n",
            "600/600 [==============================] - 2s 3ms/step - loss: 3.5389 - accuracy: 0.8890\n",
            "Epoch 5/20\n",
            "600/600 [==============================] - 2s 3ms/step - loss: 3.4069 - accuracy: 0.8867\n",
            "Epoch 6/20\n",
            "600/600 [==============================] - 2s 3ms/step - loss: 3.1929 - accuracy: 0.8914\n",
            "Epoch 7/20\n",
            "600/600 [==============================] - 2s 3ms/step - loss: 3.1052 - accuracy: 0.8890\n",
            "Epoch 8/20\n",
            "600/600 [==============================] - 2s 3ms/step - loss: 3.0608 - accuracy: 0.8908\n",
            "Epoch 9/20\n",
            "600/600 [==============================] - 2s 3ms/step - loss: 3.0468 - accuracy: 0.8903\n",
            "Epoch 10/20\n",
            "600/600 [==============================] - 3s 4ms/step - loss: 3.0019 - accuracy: 0.8918\n",
            "Epoch 11/20\n",
            "600/600 [==============================] - 2s 3ms/step - loss: 2.9603 - accuracy: 0.8923\n",
            "Epoch 12/20\n",
            "600/600 [==============================] - 2s 3ms/step - loss: 2.8680 - accuracy: 0.8939\n",
            "Epoch 13/20\n",
            "600/600 [==============================] - 2s 3ms/step - loss: 2.8029 - accuracy: 0.8925\n",
            "Epoch 14/20\n",
            "600/600 [==============================] - 2s 3ms/step - loss: 2.7635 - accuracy: 0.8948\n",
            "Epoch 15/20\n",
            "600/600 [==============================] - 2s 3ms/step - loss: 2.8594 - accuracy: 0.8916\n",
            "Epoch 16/20\n",
            "600/600 [==============================] - 2s 3ms/step - loss: 2.8429 - accuracy: 0.8935\n",
            "Epoch 17/20\n",
            "600/600 [==============================] - 2s 3ms/step - loss: 2.8682 - accuracy: 0.8941\n",
            "Epoch 18/20\n",
            "600/600 [==============================] - 2s 3ms/step - loss: 2.8546 - accuracy: 0.8938\n",
            "Epoch 19/20\n",
            "600/600 [==============================] - 2s 3ms/step - loss: 2.7379 - accuracy: 0.8956\n",
            "Epoch 20/20\n",
            "600/600 [==============================] - 2s 3ms/step - loss: 2.7421 - accuracy: 0.8937\n"
          ]
        },
        {
          "output_type": "execute_result",
          "data": {
            "text/plain": [
              "<keras.callbacks.History at 0x7f748760ebb0>"
            ]
          },
          "metadata": {},
          "execution_count": 70
        }
      ]
    },
    {
      "cell_type": "markdown",
      "source": [
        "USING DIFFERENT FUNCTIONS"
      ],
      "metadata": {
        "id": "snB4t-yazkv4"
      }
    },
    {
      "cell_type": "code",
      "source": [
        "model1 = Sequential([\n",
        "    Dense(32,input_shape=(784,),activation=\"softmax\")\n",
        "])\n",
        "\n",
        "model1.compile(\n",
        "    optimizer=\"adam\",\n",
        "    loss=\"sparse_categorical_crossentropy\",\n",
        "    metrics=[\"accuracy\"]\n",
        "\n",
        ")\n",
        "model1.fit(X_train_flat,y_train, epochs=10,batch_size = 1000) "
      ],
      "metadata": {
        "colab": {
          "base_uri": "https://localhost:8080/"
        },
        "id": "AB_qYzLazXip",
        "outputId": "749fbb4f-b135-4dfb-8c30-21b7a31806cf"
      },
      "execution_count": 71,
      "outputs": [
        {
          "output_type": "stream",
          "name": "stdout",
          "text": [
            "Epoch 1/10\n",
            "60/60 [==============================] - 1s 8ms/step - loss: 34.6187 - accuracy: 0.6205\n",
            "Epoch 2/10\n",
            "60/60 [==============================] - 1s 9ms/step - loss: 8.8613 - accuracy: 0.8386\n",
            "Epoch 3/10\n",
            "60/60 [==============================] - 1s 8ms/step - loss: 6.5179 - accuracy: 0.8621\n",
            "Epoch 4/10\n",
            "60/60 [==============================] - 0s 8ms/step - loss: 5.2818 - accuracy: 0.8739\n",
            "Epoch 5/10\n",
            "60/60 [==============================] - 1s 9ms/step - loss: 4.5420 - accuracy: 0.8803\n",
            "Epoch 6/10\n",
            "60/60 [==============================] - 1s 9ms/step - loss: 4.0551 - accuracy: 0.8837\n",
            "Epoch 7/10\n",
            "60/60 [==============================] - 1s 9ms/step - loss: 3.6391 - accuracy: 0.8868\n",
            "Epoch 8/10\n",
            "60/60 [==============================] - 0s 8ms/step - loss: 3.2824 - accuracy: 0.8887\n",
            "Epoch 9/10\n",
            "60/60 [==============================] - 0s 8ms/step - loss: 3.0617 - accuracy: 0.8898\n",
            "Epoch 10/10\n",
            "60/60 [==============================] - 0s 8ms/step - loss: 2.8503 - accuracy: 0.8917\n"
          ]
        },
        {
          "output_type": "execute_result",
          "data": {
            "text/plain": [
              "<keras.callbacks.History at 0x7f7487558dc0>"
            ]
          },
          "metadata": {},
          "execution_count": 71
        }
      ]
    },
    {
      "cell_type": "markdown",
      "source": [
        "Test Phase\n"
      ],
      "metadata": {
        "id": "jCuPaU8a0w0J"
      }
    },
    {
      "cell_type": "code",
      "source": [
        "y_pred = model.predict(X_test_flat)"
      ],
      "metadata": {
        "colab": {
          "base_uri": "https://localhost:8080/"
        },
        "id": "F05hPJ4e0wCX",
        "outputId": "4f448180-4953-4d72-aebe-5e001b6454a1"
      },
      "execution_count": 72,
      "outputs": [
        {
          "output_type": "stream",
          "name": "stdout",
          "text": [
            "313/313 [==============================] - 0s 1ms/step\n"
          ]
        }
      ]
    },
    {
      "cell_type": "code",
      "source": [
        "model.evaluate(X_test_flat,y_test)"
      ],
      "metadata": {
        "colab": {
          "base_uri": "https://localhost:8080/"
        },
        "id": "PbFdfotb0cu3",
        "outputId": "fcc9ebf7-0be9-4b1c-979e-ab2e809d01c1"
      },
      "execution_count": 73,
      "outputs": [
        {
          "output_type": "stream",
          "name": "stdout",
          "text": [
            "313/313 [==============================] - 1s 2ms/step - loss: 3.2513 - accuracy: 0.9033\n"
          ]
        },
        {
          "output_type": "execute_result",
          "data": {
            "text/plain": [
              "[3.251267910003662, 0.9032999873161316]"
            ]
          },
          "metadata": {},
          "execution_count": 73
        }
      ]
    },
    {
      "cell_type": "code",
      "source": [
        "#90% accuracy"
      ],
      "metadata": {
        "id": "hBooh3dA1KBY"
      },
      "execution_count": 74,
      "outputs": []
    },
    {
      "cell_type": "markdown",
      "source": [
        "USING MULTIPLE HIDDEN LAYER"
      ],
      "metadata": {
        "id": "Xh4QgNBg1o21"
      }
    },
    {
      "cell_type": "code",
      "source": [
        "model2 = Sequential([\n",
        "    #1st layer\n",
        "    Dense(32,input_shape=(784,),activation=\"softmax\"),\n",
        "    #2nd layer\n",
        "    Dense(32,activation=\"sigmoid\"),\n",
        "    #3nd layer\n",
        "    Dense(32,activation=\"sigmoid\")\n",
        "])\n",
        "\n",
        "model2.compile(\n",
        "    optimizer=\"adam\",\n",
        "    loss=\"sparse_categorical_crossentropy\",\n",
        "    metrics=[\"accuracy\"]\n",
        "\n",
        ")\n",
        "model2.fit(X_train_flat,y_train, epochs=10,batch_size = 1000) "
      ],
      "metadata": {
        "colab": {
          "base_uri": "https://localhost:8080/"
        },
        "id": "vdux23gb1mGv",
        "outputId": "7c3e312d-248e-4f5e-a3c0-242d863f794a"
      },
      "execution_count": 90,
      "outputs": [
        {
          "output_type": "stream",
          "name": "stdout",
          "text": [
            "Epoch 1/10\n",
            "60/60 [==============================] - 1s 9ms/step - loss: 2.9221 - accuracy: 0.1599\n",
            "Epoch 2/10\n",
            "60/60 [==============================] - 1s 9ms/step - loss: 2.3996 - accuracy: 0.2890\n",
            "Epoch 3/10\n",
            "60/60 [==============================] - 1s 9ms/step - loss: 2.1873 - accuracy: 0.5811\n",
            "Epoch 4/10\n",
            "60/60 [==============================] - 1s 9ms/step - loss: 2.0283 - accuracy: 0.7520\n",
            "Epoch 5/10\n",
            "60/60 [==============================] - 1s 9ms/step - loss: 1.8582 - accuracy: 0.8499\n",
            "Epoch 6/10\n",
            "60/60 [==============================] - 1s 9ms/step - loss: 1.6624 - accuracy: 0.8645\n",
            "Epoch 7/10\n",
            "60/60 [==============================] - 1s 9ms/step - loss: 1.4550 - accuracy: 0.8755\n",
            "Epoch 8/10\n",
            "60/60 [==============================] - 1s 9ms/step - loss: 1.2516 - accuracy: 0.8798\n",
            "Epoch 9/10\n",
            "60/60 [==============================] - 1s 9ms/step - loss: 1.0623 - accuracy: 0.8867\n",
            "Epoch 10/10\n",
            "60/60 [==============================] - 1s 10ms/step - loss: 0.9066 - accuracy: 0.8898\n"
          ]
        },
        {
          "output_type": "execute_result",
          "data": {
            "text/plain": [
              "<keras.callbacks.History at 0x7f747c629700>"
            ]
          },
          "metadata": {},
          "execution_count": 90
        }
      ]
    },
    {
      "cell_type": "code",
      "source": [],
      "metadata": {
        "id": "86SMf_lx2a34"
      },
      "execution_count": null,
      "outputs": []
    }
  ]
}