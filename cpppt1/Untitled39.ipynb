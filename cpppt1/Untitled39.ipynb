{
  "nbformat": 4,
  "nbformat_minor": 0,
  "metadata": {
    "colab": {
      "provenance": []
    },
    "kernelspec": {
      "name": "python3",
      "display_name": "Python 3"
    },
    "language_info": {
      "name": "python"
    }
  },
  "cells": [
    {
      "cell_type": "code",
      "execution_count": 1,
      "metadata": {
        "id": "bw8PSGpjwPLj"
      },
      "outputs": [],
      "source": [
        "import pandas as pd\n",
        "import numpy as np\n",
        "from sklearn.linear_model import LinearRegression\n",
        "from sklearn.model_selection import train_test_split\n",
        "from sklearn.metrics import r2_score"
      ]
    },
    {
      "cell_type": "code",
      "source": [
        "df = pd.read_csv(\"/content/mlbots2.csv\")"
      ],
      "metadata": {
        "id": "GlZT4AvrzcYe"
      },
      "execution_count": 2,
      "outputs": []
    },
    {
      "cell_type": "code",
      "source": [
        "df.head()\n",
        "df.drop(\"Unnamed: 0\",axis=1,inplace=True)"
      ],
      "metadata": {
        "id": "_kKG16GJzfb0"
      },
      "execution_count": 3,
      "outputs": []
    },
    {
      "cell_type": "code",
      "source": [
        "df.CarName.value_counts()"
      ],
      "metadata": {
        "colab": {
          "base_uri": "https://localhost:8080/"
        },
        "id": "xrOCjkOOzffh",
        "outputId": "1364cb79-26a1-43a9-f597-996d7938bb1f"
      },
      "execution_count": 4,
      "outputs": [
        {
          "output_type": "execute_result",
          "data": {
            "text/plain": [
              "19    32\n",
              "12    18\n",
              "8     17\n",
              "11    13\n",
              "5     13\n",
              "20    12\n",
              "18    12\n",
              "13    11\n",
              "21    11\n",
              "4      9\n",
              "9      8\n",
              "2      8\n",
              "1      7\n",
              "14     7\n",
              "17     6\n",
              "15     5\n",
              "6      4\n",
              "7      3\n",
              "3      3\n",
              "0      3\n",
              "16     2\n",
              "10     1\n",
              "Name: CarName, dtype: int64"
            ]
          },
          "metadata": {},
          "execution_count": 4
        }
      ]
    },
    {
      "cell_type": "code",
      "source": [],
      "metadata": {
        "id": "jTJ0-g_4zfjw"
      },
      "execution_count": 4,
      "outputs": []
    },
    {
      "cell_type": "code",
      "source": [],
      "metadata": {
        "id": "4no6b6Yyzfls"
      },
      "execution_count": 4,
      "outputs": []
    },
    {
      "cell_type": "code",
      "source": [
        "\n",
        "\n",
        "to_drop = ['peakrpm', 'compressionratio', 'stroke', 'symboling']\n",
        "df.drop(df[to_drop], axis = 1, inplace = True)\n",
        "\n",
        "X= df.drop(\"price\",axis=1)\n",
        "y= df[\"price\"]\n",
        "\n",
        "X_train,X_test,y_train,y_test = train_test_split(X,y,test_size=0.20,random_state=87)\n",
        "\n",
        "model = LinearRegression()\n",
        "model.fit(X_train.values,y_train.values)\n",
        "y_pred=model.predict(X_test.values)\n",
        "print(r2_score(y_pred,y_test))"
      ],
      "metadata": {
        "colab": {
          "base_uri": "https://localhost:8080/"
        },
        "id": "FWNXBoyxwROz",
        "outputId": "8e548c95-ee57-4840-8af0-ad4838dc5c90"
      },
      "execution_count": 5,
      "outputs": [
        {
          "output_type": "stream",
          "name": "stdout",
          "text": [
            "0.9259653982631831\n"
          ]
        }
      ]
    },
    {
      "cell_type": "markdown",
      "source": [],
      "metadata": {
        "id": "JsNFWL9dzbX_"
      }
    },
    {
      "cell_type": "code",
      "source": [
        "model.predict([[0\t,0,\t0,\t0,\t0,\t0\t,0\t,90,\t190\t,60\t,50\t,1900,\t0\t,0,\t78,0,\t4,\t150,\t19\t,55\t]])"
      ],
      "metadata": {
        "colab": {
          "base_uri": "https://localhost:8080/"
        },
        "id": "qzfC4VsJwSxn",
        "outputId": "011f8c2f-539c-466e-b5dc-50defde7bd5f"
      },
      "execution_count": 6,
      "outputs": [
        {
          "output_type": "execute_result",
          "data": {
            "text/plain": [
              "array([13221.16709186])"
            ]
          },
          "metadata": {},
          "execution_count": 6
        }
      ]
    },
    {
      "cell_type": "code",
      "source": [],
      "metadata": {
        "id": "hzdP89LQx2xp"
      },
      "execution_count": null,
      "outputs": []
    }
  ]
}